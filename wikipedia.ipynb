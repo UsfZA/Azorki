{
  "nbformat": 4,
  "nbformat_minor": 0,
  "metadata": {
    "colab": {
      "provenance": [],
      "authorship_tag": "ABX9TyNM1Rl92GqMB+7Z82bJMoNY",
      "include_colab_link": true
    },
    "kernelspec": {
      "name": "python3",
      "display_name": "Python 3"
    },
    "language_info": {
      "name": "python"
    }
  },
  "cells": [
    {
      "cell_type": "markdown",
      "metadata": {
        "id": "view-in-github",
        "colab_type": "text"
      },
      "source": [
        "<a href=\"https://colab.research.google.com/github/UsfZA/Azorki/blob/main/wikipedia.ipynb\" target=\"_parent\"><img src=\"https://colab.research.google.com/assets/colab-badge.svg\" alt=\"Open In Colab\"/></a>"
      ]
    },
    {
      "cell_type": "code",
      "execution_count": 90,
      "metadata": {
        "id": "HfkqkzbMT4m1"
      },
      "outputs": [],
      "source": [
        "from bs4 import BeautifulSoup as bs\n",
        "import pandas as pd\n",
        "import requests\n",
        "import re"
      ]
    },
    {
      "cell_type": "code",
      "source": [
        "url = \"https://en.wikipedia.org/wiki/Toy_Story_3\"\n",
        "r = requests.get(url)\n",
        "soup = bs(r.content)"
      ],
      "metadata": {
        "id": "-RNRWzBOUHrb"
      },
      "execution_count": 91,
      "outputs": []
    },
    {
      "cell_type": "code",
      "source": [
        "table = soup.find(class_='infobox vevent')\n",
        "\n",
        "headers = []\n",
        "columns =[]\n",
        "for tr in table.find_all('tr'):\n",
        "  for th in tr.find_all('th'):\n",
        "    if th.text.strip() == 'Toy Story 3':\n",
        "      headers.append('Title')\n",
        "    else:\n",
        "      headers.append(th.text.strip())\n",
        "\n",
        "\n",
        "rows = []\n",
        "\n",
        "for tr in table.find_all('tr'):\n",
        "  for td in tr.find_all('td'):\n",
        "    if tr.find_all('li'):\n",
        "      cell_list = [li.text.strip() for li in td.find_all('li')]\n",
        "\n",
        "      rows.append(cell_list)\n",
        "    else:\n",
        "      text = td.text.strip()\n",
        "      if text == 'Theatrical release poster':\n",
        "        rows.append('Toy Story 3')\n",
        "      else:\n",
        "        # Remove small numbers inside brackets using regular expression\n",
        "        cleaned_text = re.sub(r'\\[\\d+\\]', '', text)\n",
        "        more_cleaning = re.sub(r'\\xa0', ' ', text)\n",
        "        rows.append(more_cleaning)"
      ],
      "metadata": {
        "id": "YZNIo5X4UbDd"
      },
      "execution_count": 111,
      "outputs": []
    },
    {
      "cell_type": "code",
      "source": [
        "df = pd.DataFrame({'Infos': headers, 'Movie Infos': rows})"
      ],
      "metadata": {
        "id": "8_Hr0Mjygm2S"
      },
      "execution_count": 112,
      "outputs": []
    },
    {
      "cell_type": "code",
      "source": [
        "movie_info = df.set_index('Infos')['Movie Infos'].to_dict()\n",
        "movie_info\n",
        "updated_movie_info = {}\n",
        "for k, v in movie_info.items():\n",
        "    if isinstance(v, list):\n",
        "        updated_movie_info[k] = [re.sub(r'\\xa0', ' ', item) for item in v]\n",
        "    else:\n",
        "        updated_movie_info[k] = re.sub(r'\\xa0', ' ', str(v))"
      ],
      "metadata": {
        "colab": {
          "base_uri": "https://localhost:8080/"
        },
        "id": "odMQ9TM-hmKR",
        "outputId": "1dce4a10-a060-4162-b94e-9a68f8e2b97f"
      },
      "execution_count": 113,
      "outputs": [
        {
          "output_type": "execute_result",
          "data": {
            "text/plain": [
              "{'Title': 'Toy Story 3',\n",
              " 'Directed by': 'Lee Unkrich',\n",
              " 'Screenplay by': 'Michael Arndt',\n",
              " 'Story by': ['John Lasseter', 'Andrew Stanton', 'Lee Unkrich'],\n",
              " 'Produced by': 'Darla K. Anderson',\n",
              " 'Starring': ['Tom Hanks',\n",
              "  'Tim Allen',\n",
              "  'Joan Cusack',\n",
              "  'Don Rickles',\n",
              "  'Wallace Shawn',\n",
              "  'John Ratzenberger',\n",
              "  'Estelle Harris',\n",
              "  'Ned Beatty',\n",
              "  'Michael Keaton',\n",
              "  'Jodi Benson',\n",
              "  'John Morris'],\n",
              " 'Cinematography': ['Jeremy Lasky', 'Kim White'],\n",
              " 'Edited by': 'Ken Schretzmann',\n",
              " 'Music by': 'Randy Newman',\n",
              " 'Productioncompanies': ['Walt Disney Pictures', 'Pixar Animation Studios'],\n",
              " 'Distributed by': 'Walt Disney StudiosMotion Pictures',\n",
              " 'Release dates': ['June\\xa012,\\xa02010\\xa0(2010-06-12) (Taormina Film Fest)',\n",
              "  'June\\xa018,\\xa02010\\xa0(2010-06-18) (United States)'],\n",
              " 'Running time': '103 minutes[1]',\n",
              " 'Country': 'United States',\n",
              " 'Language': 'English',\n",
              " 'Budget': '$200 million[1]',\n",
              " 'Box office': '$1.067 billion[1]'}"
            ]
          },
          "metadata": {},
          "execution_count": 113
        }
      ]
    },
    {
      "cell_type": "code",
      "source": [
        "updated_movie_info"
      ],
      "metadata": {
        "colab": {
          "base_uri": "https://localhost:8080/"
        },
        "id": "eoGNtdCwiTEF",
        "outputId": "3abd6a3b-debf-4f4a-826c-2f4d1b2043d1"
      },
      "execution_count": 107,
      "outputs": [
        {
          "output_type": "execute_result",
          "data": {
            "text/plain": [
              "{'Title': 'Toy Story 3',\n",
              " 'Directed by': 'Lee Unkrich',\n",
              " 'Screenplay by': 'Michael Arndt',\n",
              " 'Story by': ['John Lasseter', 'Andrew Stanton', 'Lee Unkrich'],\n",
              " 'Produced by': 'Darla K. Anderson',\n",
              " 'Starring': ['Tom Hanks',\n",
              "  'Tim Allen',\n",
              "  'Joan Cusack',\n",
              "  'Don Rickles',\n",
              "  'Wallace Shawn',\n",
              "  'John Ratzenberger',\n",
              "  'Estelle Harris',\n",
              "  'Ned Beatty',\n",
              "  'Michael Keaton',\n",
              "  'Jodi Benson',\n",
              "  'John Morris'],\n",
              " 'Cinematography': ['Jeremy Lasky', 'Kim White'],\n",
              " 'Edited by': 'Ken Schretzmann',\n",
              " 'Music by': 'Randy Newman',\n",
              " 'Productioncompanies': ['Walt Disney Pictures', 'Pixar Animation Studios'],\n",
              " 'Distributed by': 'Walt Disney StudiosMotion Pictures',\n",
              " 'Release dates': ['June 12, 2010 (2010-06-12) (Taormina Film Fest)',\n",
              "  'June 18, 2010 (2010-06-18) (United States)'],\n",
              " 'Running time': '103 minutes',\n",
              " 'Country': 'United States',\n",
              " 'Language': 'English',\n",
              " 'Budget': '$200 million',\n",
              " 'Box office': '$1.067 billion'}"
            ]
          },
          "metadata": {},
          "execution_count": 107
        }
      ]
    },
    {
      "cell_type": "code",
      "source": [
        "updated_movie"
      ],
      "metadata": {
        "id": "m6oy1EMNy1L-"
      },
      "execution_count": null,
      "outputs": []
    }
  ]
}