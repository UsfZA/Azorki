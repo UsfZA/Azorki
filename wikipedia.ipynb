{
  "nbformat": 4,
  "nbformat_minor": 0,
  "metadata": {
    "colab": {
      "provenance": [],
      "authorship_tag": "ABX9TyOAAv2ZQsqbJ7sJV+AFpGdi",
      "include_colab_link": true
    },
    "kernelspec": {
      "name": "python3",
      "display_name": "Python 3"
    },
    "language_info": {
      "name": "python"
    }
  },
  "cells": [
    {
      "cell_type": "markdown",
      "metadata": {
        "id": "view-in-github",
        "colab_type": "text"
      },
      "source": [
        "<a href=\"https://colab.research.google.com/github/UsfZA/Azorki/blob/main/wikipedia.ipynb\" target=\"_parent\"><img src=\"https://colab.research.google.com/assets/colab-badge.svg\" alt=\"Open In Colab\"/></a>"
      ]
    },
    {
      "cell_type": "code",
      "execution_count": 244,
      "metadata": {
        "id": "HfkqkzbMT4m1"
      },
      "outputs": [],
      "source": [
        "from bs4 import BeautifulSoup as bs\n",
        "import pandas as pd\n",
        "import requests\n",
        "import re\n",
        "import json"
      ]
    },
    {
      "cell_type": "code",
      "source": [
        "def extract_movies_infos(url):\n",
        "  r = requests.get(url)\n",
        "  soup = bs(r.content)\n",
        "\n",
        "  table = soup.find(class_='infobox vevent')\n",
        "\n",
        "  headers = []\n",
        "  title_added = False\n",
        "  movie_name = None\n",
        "  for tr in table.find_all('tr'):\n",
        "    th_list = tr.find_all('th')\n",
        "    if th_list:\n",
        "      for th in th_list:\n",
        "        if movie_name is None:  # Check if movie_name is already assigned a value\n",
        "                  movie_name = th.get_text(' ', strip=True)\n",
        "        if not title_added:\n",
        "                  headers.append('Title')\n",
        "                  title_added = True\n",
        "        else:\n",
        "          headers.append(th.get_text(' ', strip=True))\n",
        "\n",
        "\n",
        "  rows = []\n",
        "\n",
        "  for tr in table.find_all('tr'):\n",
        "    for td in tr.find_all('td'):\n",
        "      if tr.find_all('li'):\n",
        "        cell_list = [li.get_text(' ', strip=True) for li in td.find_all('li')]\n",
        "        rows.append(cell_list)\n",
        "      else:\n",
        "        text = td.get_text(' ', strip=True)\n",
        "        if text == 'Theatrical release poster':\n",
        "          rows.append(movie_name)\n",
        "        else:\n",
        "          cleaned_text = re.sub(r'\\[\\d+\\]', '', text)\n",
        "          more_cleaning = re.sub(r'\\xa0', ' ', cleaned_text)\n",
        "          rows.append(more_cleaning)\n",
        "\n",
        "  movie_info = dict(zip(headers, rows))\n",
        "  return movie_info"
      ],
      "metadata": {
        "id": "YZNIo5X4UbDd"
      },
      "execution_count": 228,
      "outputs": []
    },
    {
      "cell_type": "code",
      "source": [
        "extract_movies_infos('https://en.wikipedia.org/wiki/The_Living_Desert')\n"
      ],
      "metadata": {
        "colab": {
          "base_uri": "https://localhost:8080/"
        },
        "id": "-5PsBoyq-ShX",
        "outputId": "2d687b14-204f-4d9d-fde9-14be323ab8ca"
      },
      "execution_count": 230,
      "outputs": [
        {
          "output_type": "execute_result",
          "data": {
            "text/plain": [
              "{'Title': 'Film poster for the double-feature release of The Living Desert and The Vanishing Prairie .',\n",
              " 'Directed by': 'James Algar',\n",
              " 'Written by': 'James Algar Winston Hibler',\n",
              " 'Produced by': 'Ben Sharpsteen Walt Disney',\n",
              " 'Narrated by': 'Winston Hibler',\n",
              " 'Cinematography': 'Robert H. Crandall N. Paul Kenworthy',\n",
              " 'Edited by': 'Norman R. Palmer',\n",
              " 'Music by': 'Paul J. Smith',\n",
              " 'Production company': 'Walt Disney Productions',\n",
              " 'Distributed by': 'Buena Vista Distribution',\n",
              " 'Release date': ['November\\xa010,\\xa01953 ( 1953-11-10 )'],\n",
              " 'Running time': '69 minutes',\n",
              " 'Country': 'United States',\n",
              " 'Language': 'English',\n",
              " 'Budget': '$300,000',\n",
              " 'Box office': '$2.6 million (US) '}"
            ]
          },
          "metadata": {},
          "execution_count": 230
        }
      ]
    },
    {
      "cell_type": "code",
      "source": [
        "\n",
        "r = requests.get(\"https://en.wikipedia.org/wiki/List_of_Walt_Disney_Pictures_films\")\n",
        "web_page = bs(r.content)\n",
        "\n",
        "urls = web_page.find_all(class_='wikitable sortable')\n",
        "\n",
        "movies_urls = []\n",
        "\n",
        "for tr in urls:  # Iterate over the individual Tag elements in the ResultSet\n",
        "    for td in tr.find_all('td'):\n",
        "        for i in td.find_all('i'):\n",
        "            link = i.find('a')\n",
        "            if link:\n",
        "                movie_url = 'https://en.wikipedia.org'+link['href']\n",
        "                movies_urls.append(movie_url)\n",
        "\n",
        "print(len(movies_urls))"
      ],
      "metadata": {
        "colab": {
          "base_uri": "https://localhost:8080/"
        },
        "id": "eFbcwdVZCmQl",
        "outputId": "c73b6388-ab40-47bf-ddf6-9e32ed4b9143"
      },
      "execution_count": 234,
      "outputs": [
        {
          "output_type": "stream",
          "name": "stdout",
          "text": [
            "569\n"
          ]
        }
      ]
    },
    {
      "cell_type": "code",
      "source": [
        "movies_dictionaries = []\n",
        "for url in movies_urls:\n",
        "  try:\n",
        "    movie_infos_dict = extract_movies_infos(url)\n",
        "    movies_dictionaries.append(movie_infos_dict)\n",
        "  except Exception as e:\n",
        "    print(url)\n",
        "    print(e)\n",
        "\n",
        "\n"
      ],
      "metadata": {
        "colab": {
          "base_uri": "https://localhost:8080/"
        },
        "id": "-5OZ4KUIMiYs",
        "outputId": "04781788-cbd6-434c-a804-7c151548d64d"
      },
      "execution_count": 238,
      "outputs": [
        {
          "output_type": "stream",
          "name": "stdout",
          "text": [
            "https://en.wikipedia.org/wiki/Elio_(film)\n",
            "'NoneType' object has no attribute 'find_all'\n",
            "https://en.wikipedia.org/wiki/Chris_Paul\n",
            "'NoneType' object has no attribute 'find_all'\n",
            "https://en.wikipedia.org/wiki/Big_Thunder_Mountain_Railroad\n",
            "'NoneType' object has no attribute 'find_all'\n",
            "https://en.wikipedia.org/wiki/Keeper_of_the_Lost_Cities#Film_adaptation\n",
            "'NoneType' object has no attribute 'find_all'\n",
            "https://en.wikipedia.org/wiki/Jim_Henson#Legacy\n",
            "'NoneType' object has no attribute 'find_all'\n",
            "https://en.wikipedia.org/wiki/One_Thousand_and_One_Nights\n",
            "'NoneType' object has no attribute 'find_all'\n",
            "https://en.wikipedia.org/wiki/Space_Mountain#Film\n",
            "'NoneType' object has no attribute 'find_all'\n",
            "https://en.wikipedia.org/wiki/The_Graveyard_Book#Possible_film_adaptation\n",
            "'NoneType' object has no attribute 'find_all'\n",
            "https://en.wikipedia.org/wiki/The_Thief_(Turner_novel)\n",
            "'NoneType' object has no attribute 'find_all'\n",
            "https://en.wikipedia.org/wiki/Tom_Sawyer\n",
            "'NoneType' object has no attribute 'find_all'\n",
            "https://en.wikipedia.org/wiki/The_Twilight_Zone_Tower_of_Terror#Film_adaptation\n",
            "'NoneType' object has no attribute 'find_all'\n",
            "https://en.wikipedia.org/wiki/Figment_(Disney)\n",
            "'NoneType' object has no attribute 'find_all'\n"
          ]
        }
      ]
    },
    {
      "cell_type": "code",
      "source": [
        "\n",
        "file_path = \"C:\\\\Users\\\\HP Elitebook 840 G6\\\\Desktop\\\\word\\\\data1.json\"\n",
        "\n",
        "\n",
        "with open(file_path, 'w') as json_file:\n",
        "  json.dump(movies_dictionaries, json_file)\n",
        "  print('done')\n"
      ],
      "metadata": {
        "id": "7UGwk9iemTnI",
        "outputId": "438f02ce-6291-4992-dcff-58f9593c435d",
        "colab": {
          "base_uri": "https://localhost:8080/"
        }
      },
      "execution_count": 252,
      "outputs": [
        {
          "output_type": "stream",
          "name": "stdout",
          "text": [
            "done\n"
          ]
        }
      ]
    },
    {
      "cell_type": "code",
      "source": [
        "import json\n",
        "from google.colab import files\n",
        "\n",
        "file_path = \"/content/data1.json\"\n",
        "\n",
        "# Save the list of dictionaries to the JSON file\n",
        "with open(file_path, 'w') as json_file:\n",
        "    json.dump(movies_dictionaries, json_file)\n",
        "\n",
        "# Download the JSON file\n",
        "files.download(file_path)\n"
      ],
      "metadata": {
        "id": "59uv95MKxT4u",
        "outputId": "dc478935-878d-4c21-beff-7f365c485867",
        "colab": {
          "base_uri": "https://localhost:8080/",
          "height": 17
        }
      },
      "execution_count": 253,
      "outputs": [
        {
          "output_type": "display_data",
          "data": {
            "text/plain": [
              "<IPython.core.display.Javascript object>"
            ],
            "application/javascript": [
              "\n",
              "    async function download(id, filename, size) {\n",
              "      if (!google.colab.kernel.accessAllowed) {\n",
              "        return;\n",
              "      }\n",
              "      const div = document.createElement('div');\n",
              "      const label = document.createElement('label');\n",
              "      label.textContent = `Downloading \"${filename}\": `;\n",
              "      div.appendChild(label);\n",
              "      const progress = document.createElement('progress');\n",
              "      progress.max = size;\n",
              "      div.appendChild(progress);\n",
              "      document.body.appendChild(div);\n",
              "\n",
              "      const buffers = [];\n",
              "      let downloaded = 0;\n",
              "\n",
              "      const channel = await google.colab.kernel.comms.open(id);\n",
              "      // Send a message to notify the kernel that we're ready.\n",
              "      channel.send({})\n",
              "\n",
              "      for await (const message of channel.messages) {\n",
              "        // Send a message to notify the kernel that we're ready.\n",
              "        channel.send({})\n",
              "        if (message.buffers) {\n",
              "          for (const buffer of message.buffers) {\n",
              "            buffers.push(buffer);\n",
              "            downloaded += buffer.byteLength;\n",
              "            progress.value = downloaded;\n",
              "          }\n",
              "        }\n",
              "      }\n",
              "      const blob = new Blob(buffers, {type: 'application/binary'});\n",
              "      const a = document.createElement('a');\n",
              "      a.href = window.URL.createObjectURL(blob);\n",
              "      a.download = filename;\n",
              "      div.appendChild(a);\n",
              "      a.click();\n",
              "      div.remove();\n",
              "    }\n",
              "  "
            ]
          },
          "metadata": {}
        },
        {
          "output_type": "display_data",
          "data": {
            "text/plain": [
              "<IPython.core.display.Javascript object>"
            ],
            "application/javascript": [
              "download(\"download_8548028f-93c9-4099-b7a5-d57d62988550\", \"data1.json\", 446142)"
            ]
          },
          "metadata": {}
        }
      ]
    },
    {
      "cell_type": "code",
      "source": [],
      "metadata": {
        "id": "q-cuyJ_I5Oul"
      },
      "execution_count": null,
      "outputs": []
    }
  ]
}